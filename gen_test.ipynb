{
 "cells": [
  {
   "cell_type": "code",
   "execution_count": null,
   "metadata": {},
   "outputs": [],
   "source": [
    "import numpy as np\n",
    "import tensorflow as tf\n",
    "\n",
    "text = open(\"your_file.txt\", \"r\").read()  # Replace \"your_file.txt\"\n",
    "\n",
    "# Create character dictionary\n",
    "chars = sorted(list(set(text)))\n",
    "char_to_index = {char: index for index, char in enumerate(chars)}\n",
    "index_to_char = {index: char for index, char in enumerate(chars)}\n",
    "\n",
    "# Preparing training data\n",
    "input_length = 100\n",
    "step = 3\n",
    "sentences = []\n",
    "next_chars = []\n",
    "for i in range(0, len(text) - input_length, step):\n",
    "    sentences.append(text[i:i + input_length])\n",
    "    next_chars.append(text[i + input_length])\n",
    "    \n",
    "# Convert training data to number format\n",
    "x = np.zeros((len(sentences), input_length, len(chars)), dtype=np.bool_)\n",
    "y = np.zeros((len(sentences), len(chars)), dtype=np.bool_)\n",
    "for i, sentence in enumerate(sentences):\n",
    "    for t, char in enumerate(sentence):\n",
    "        x[i, t, char_to_index[char]] = 1\n",
    "    y[i, char_to_index[next_chars[i]]] = 1\n",
    "\n",
    "# Create and train the RNN model\n",
    "model = tf.keras.models.Sequential([\n",
    "    tf.keras.layers.GRU(256, input_shape=(input_length, len(chars)), return_sequences=True),\n",
    "    tf.keras.layers.GRU(256),\n",
    "    tf.keras.layers.Dense(len(chars), activation='softmax')\n",
    "])\n",
    "model.compile(loss='categorical_crossentropy', optimizer='adam')\n",
    "model.fit(x, y, batch_size=128, epochs=50)\n",
    "\n",
    "# Function for text generation\n",
    "def generate_text(model, seed_text, length):\n",
    "    generated_text = seed_text\n",
    "    for _ in range(length):\n",
    "        x_pred = np.zeros((1, input_length, len(chars)))\n",
    "        for t, char in enumerate(seed_text):\n",
    "            x_pred[0, t, char_to_index[char]] = 1\n",
    "        preds = model.predict(x_pred)[0]\n",
    "        next_char_index = np.random.choice(len(chars), p=preds)\n",
    "        next_char = index_to_char[next_char_index]\n",
    "        generated_text += next_char\n",
    "        seed_text = seed_text[1:] + next_char\n",
    "    return generated_text\n",
    "\n",
    "# Text input\n",
    "seed_text = input(\"Enter the start text: \")\n",
    "generated_text = generate_text(model, seed_text, length=200)\n",
    "print(generated_text)\n"
   ]
  }
 ],
 "metadata": {
  "kernelspec": {
   "display_name": "tf",
   "language": "python",
   "name": "python3"
  },
  "language_info": {
   "codemirror_mode": {
    "name": "ipython",
    "version": 3
   },
   "file_extension": ".py",
   "mimetype": "text/x-python",
   "name": "python",
   "nbconvert_exporter": "python",
   "pygments_lexer": "ipython3",
   "version": "3.10.11"
  },
  "orig_nbformat": 4
 },
 "nbformat": 4,
 "nbformat_minor": 2
}
